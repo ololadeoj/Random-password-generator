{
 "cells": [
  {
   "cell_type": "code",
   "execution_count": null,
   "id": "e85c0130",
   "metadata": {},
   "outputs": [],
   "source": []
  },
  {
   "cell_type": "code",
   "execution_count": 3,
   "id": "a0d004c7",
   "metadata": {},
   "outputs": [
    {
     "name": "stdout",
     "output_type": "stream",
     "text": [
      "The password generated is BuJd'4/:\n"
     ]
    }
   ],
   "source": [
    "import random\n",
    "import string\n",
    "uc=\"\"\n",
    "lc=\"\"\n",
    "num=\"\"\n",
    "sc=\"\"\n",
    "password_gen=\"\"\n",
    "for p in range(2):\n",
    "    lc+=chr(random.randint(97,123))\n",
    "    uc+=chr(random.randint(65,91))\n",
    "    sc+=chr(random.randint(33,48))\n",
    "    num+=chr(random.randint(48,58))\n",
    "password_gen+=lc+uc+sc+num\n",
    "passwordlist=list(password_gen)\n",
    "password=random.shuffle(passwordlist)\n",
    "a=\"\".join(passwordlist)\n",
    "print(\"The password generated is\",a)"
   ]
  },
  {
   "cell_type": "code",
   "execution_count": 4,
   "id": "3e62f7ef",
   "metadata": {},
   "outputs": [
    {
     "name": "stdout",
     "output_type": "stream",
     "text": [
      "The password generated is JB/'u4:d\n"
     ]
    }
   ],
   "source": [
    "def values():\n",
    "    import random\n",
    "    uc=\"\"\n",
    "    lc=\"\"\n",
    "    num=\"\"\n",
    "    sc=\"\"\n",
    "    password_gen=\"\"\n",
    "    for p in range(2):\n",
    "        lc+=chr(random.randint(97,123))\n",
    "        uc+=chr(random.randint(65,91))\n",
    "        sc+=chr(random.randint(33,48))\n",
    "        num+=chr(random.randint(48,58))\n",
    "    password_gen+=lc+uc+sc+num\n",
    "    return password_gen\n",
    "def shuffle_pass(val):\n",
    "    passwordlist=list(password_gen)\n",
    "    random.shuffle(passwordlist)\n",
    "    return \"\".join(passwordlist)\n",
    "def main():\n",
    "    val=values()\n",
    "    password=shuffle_pass(val)\n",
    "    print(\"The password generated is\",password)\n",
    "main()"
   ]
  },
  {
   "cell_type": "code",
   "execution_count": null,
   "id": "2dfc8b9a",
   "metadata": {},
   "outputs": [],
   "source": []
  },
  {
   "cell_type": "code",
   "execution_count": null,
   "id": "066bc7c4",
   "metadata": {},
   "outputs": [],
   "source": []
  }
 ],
 "metadata": {
  "kernelspec": {
   "display_name": "Python 3 (ipykernel)",
   "language": "python",
   "name": "python3"
  },
  "language_info": {
   "codemirror_mode": {
    "name": "ipython",
    "version": 3
   },
   "file_extension": ".py",
   "mimetype": "text/x-python",
   "name": "python",
   "nbconvert_exporter": "python",
   "pygments_lexer": "ipython3",
   "version": "3.10.7"
  }
 },
 "nbformat": 4,
 "nbformat_minor": 5
}
